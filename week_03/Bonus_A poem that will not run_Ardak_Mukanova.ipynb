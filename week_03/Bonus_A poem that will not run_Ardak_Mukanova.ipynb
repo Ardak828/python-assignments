{
 "cells": [
  {
   "cell_type": "code",
   "execution_count": null,
   "id": "8b1f363b",
   "metadata": {},
   "outputs": [],
   "source": [
    "def today ():\n",
    "    \n",
    "    if I:   \n",
    "    cub = 5\n",
    "    \n",
    "    drink(coffee) {\n",
    "    if(cub > 0) {\n",
    "        cub - 1\n",
    "        }\n",
    "    }\n",
    "\n",
    "    Iwill() {\n",
    "        do('my work')\n",
    "        do('my hobby')\n",
    "        do('nothing')\n",
    "    }\n",
    "\n",
    "not today()"
   ]
  }
 ],
 "metadata": {
  "kernelspec": {
   "display_name": "Python 3",
   "language": "python",
   "name": "python3"
  },
  "language_info": {
   "codemirror_mode": {
    "name": "ipython",
    "version": 3
   },
   "file_extension": ".py",
   "mimetype": "text/x-python",
   "name": "python",
   "nbconvert_exporter": "python",
   "pygments_lexer": "ipython3",
   "version": "3.8.8"
  }
 },
 "nbformat": 4,
 "nbformat_minor": 5
}
