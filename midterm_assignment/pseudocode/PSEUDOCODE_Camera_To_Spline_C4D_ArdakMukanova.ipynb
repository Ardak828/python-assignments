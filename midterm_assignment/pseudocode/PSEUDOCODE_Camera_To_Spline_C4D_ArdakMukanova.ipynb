{
 "cells": [
  {
   "cell_type": "code",
   "execution_count": null,
   "id": "0cd5f61f",
   "metadata": {},
   "outputs": [],
   "source": [
    "# python pseudocode for Cinema 4d project\n",
    "# Midterm Assignment, Ardak Mukanova\n",
    "\n",
    "import c4d module functions \n",
    "from c4d import gui — to be able to see what is happening inside C4D\n",
    "\n",
    "# Main function\n",
    "def mainFunction():\n",
    "    \"\"\" this is a sample python pseudocode for Cinema 4D to create a custom camera with tags \"\"\"\n",
    "    \n",
    "    def c4d Plugin Tool():\n",
    "        return c4d.plugins.FindPlugin()\n",
    "\n",
    "    def Active Object():\n",
    "        return doc.GetActiveObject()\n",
    "\n",
    "    def Active Tag():\n",
    "        return doc.GetActiveTag()\n",
    "\n",
    "        \n",
    "    c4d.CallCommand(Create Camera) # Creates default camera\n",
    "    c4d.CallCommand(Set camera view) # Use current Camera view\n",
    "    \n",
    "    c4d.CallCommand(Create New Tag on Camera — TARGET) # New Tag — TARGET Tag\n",
    "    ActiveTag = doc.GetActiveTag() # Takes active TARGET tag\n",
    "    \n",
    "    c4d.CallCommand(Create New Tag on Camera — SPLINE) # New Tag — SPLINE Tag \n",
    "    NextTag = doc.GetActiveTag() # Takes active SPLINE tag\n",
    "\n",
    "    c4d.CallCommand(Create Null object) # Creates Null object\n",
    "    ActiveObject = doc.GetActiveObject()\n",
    "    ActiveTag[PATH_TO_THE_TARGET_LINK] = ActiveObject # Creates the path to the TARGET link to assign the object\n",
    "    \n",
    "    c4d.CallCommand(Deselect ActiveObject) # Deselects ActiveObject\n",
    "    \n",
    "    c4d.CallCommand(Create Circle) # Creates Circle object\n",
    "    object()[CIRCLE_RADIUS] = 1000 # Can be any radius\n",
    "    object()[CIRCLE_PLANE] = XZ # Can be any coordinates\n",
    "    NextObject = ActiveObject.GetPreviousObject()\n",
    "    NextObject.SetThisObjectActive(SET_ACTIVE)\n",
    "    NextTag[PATH_TO_THE_SPLINE_LINK] = NextObject # Creates the path to the SPLINE link to assign the next object\n",
    "    \n",
    "# Execute main() \n",
    "if __name__ equals '__main__': # checking if to run\n",
    "    mainFunction() \n",
    "    c4d.EventAdd() # C4D knows that something happened in the program and needs to refresh"
   ]
  }
 ],
 "metadata": {
  "kernelspec": {
   "display_name": "Python 3",
   "language": "python",
   "name": "python3"
  },
  "language_info": {
   "codemirror_mode": {
    "name": "ipython",
    "version": 3
   },
   "file_extension": ".py",
   "mimetype": "text/x-python",
   "name": "python",
   "nbconvert_exporter": "python",
   "pygments_lexer": "ipython3",
   "version": "3.8.8"
  }
 },
 "nbformat": 4,
 "nbformat_minor": 5
}
