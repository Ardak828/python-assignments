{
 "cells": [
  {
   "cell_type": "code",
   "execution_count": null,
   "id": "4dbeb515",
   "metadata": {},
   "outputs": [],
   "source": [
    "# python pseudocode for Cinema 4d project\n",
    "# Midterm Assignment, Ardak Mukanova\n",
    "\n",
    "import c4d module functions \n",
    "from c4d import gui — to be able to see what is happening inside C4D\n",
    "\n",
    "# Main function\n",
    "def main():\n",
    "    \"\"\" this is a sample python pseudocode for Cinema 4D to make an active object to reset the position to the center \"\"\"\n",
    "\n",
    "    def object():\n",
    "        return SelectActiveObject() # Selects object that is active in C4D\n",
    "\n",
    "    c4d.CallCommand(Reset All Axis to Center Position) # Center Axis to\n",
    "    object()[OBJECT_POSITION, VECTOR_X] = 0 # Sets X axe to 0\n",
    "    object()[OBJECT_POSITION, VECTOR_Y] = 0 # Sets Y axe to 0\n",
    "    object()[OBJECT_POSITION, VECTOR_Z] = 0 # Sets Z axe to 0\n",
    "    object()[OBJECT_ROTATION, VECTOR_X] = 0 # Sets X rotation to 0\n",
    "    object()[OBJECT_ROTATION, VECTOR_Y] = 0 # Sets Y rotation to 0\n",
    "    object()[OBJECT_ROTATION, VECTOR_Z] = 0 # Sets Z rotation to 0\n",
    "\n",
    "# We can add or remove object commands if needed  \n",
    "\n",
    "# Execute main()\n",
    "if __name__equals'__main__': # checking if to run\n",
    "    main()\n",
    "    c4d.EventAdd() # C4D knows that something happened in the program and needs to refresh"
   ]
  }
 ],
 "metadata": {
  "kernelspec": {
   "display_name": "Python 3",
   "language": "python",
   "name": "python3"
  },
  "language_info": {
   "codemirror_mode": {
    "name": "ipython",
    "version": 3
   },
   "file_extension": ".py",
   "mimetype": "text/x-python",
   "name": "python",
   "nbconvert_exporter": "python",
   "pygments_lexer": "ipython3",
   "version": "3.8.8"
  }
 },
 "nbformat": 4,
 "nbformat_minor": 5
}
