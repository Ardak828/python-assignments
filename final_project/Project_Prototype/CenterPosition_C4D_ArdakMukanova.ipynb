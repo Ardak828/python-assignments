{
 "cells": [
  {
   "cell_type": "code",
   "execution_count": null,
   "id": "b35b8dca",
   "metadata": {
    "scrolled": true
   },
   "outputs": [],
   "source": [
    "# Center Position\n",
    "\n",
    "# Python Custom Commands in Cinema 4D \n",
    "# Final Assignment, Ardak Mukanova\n",
    "\n",
    "import c4d\n",
    "from c4d import gui\n",
    "\n",
    "# Main function\n",
    "def main():   \n",
    "\"\"\" this is a script for Cinema 4D to make an active object to reset the position to the center \"\"\"\n",
    "\n",
    "    def object():\n",
    "        return doc.GetActiveObject()\n",
    "\n",
    "    c4d.CallCommand(1011982) # Center Axis to\n",
    "    object()[c4d.ID_BASEOBJECT_REL_POSITION,c4d.VECTOR_X] = 0\n",
    "    object()[c4d.ID_BASEOBJECT_REL_POSITION,c4d.VECTOR_Y] = 0\n",
    "    object()[c4d.ID_BASEOBJECT_REL_POSITION,c4d.VECTOR_Z] = 0\n",
    "    object()[c4d.ID_BASEOBJECT_REL_ROTATION,c4d.VECTOR_X] = 0\n",
    "    object()[c4d.ID_BASEOBJECT_REL_ROTATION,c4d.VECTOR_Y] = 0\n",
    "    object()[c4d.ID_BASEOBJECT_REL_ROTATION,c4d.VECTOR_Z] = 0\n",
    "\n",
    "# Execute main()\n",
    "if __name__=='__main__':\n",
    "    main()\n",
    "    c4d.EventAdd()"
   ]
  }
 ],
 "metadata": {
  "kernelspec": {
   "display_name": "Python 3",
   "language": "python",
   "name": "python3"
  },
  "language_info": {
   "codemirror_mode": {
    "name": "ipython",
    "version": 3
   },
   "file_extension": ".py",
   "mimetype": "text/x-python",
   "name": "python",
   "nbconvert_exporter": "python",
   "pygments_lexer": "ipython3",
   "version": "3.8.8"
  }
 },
 "nbformat": 4,
 "nbformat_minor": 5
}
