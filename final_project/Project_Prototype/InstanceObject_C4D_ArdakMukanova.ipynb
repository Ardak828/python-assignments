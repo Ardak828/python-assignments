{
 "cells": [
  {
   "cell_type": "code",
   "execution_count": null,
   "id": "6d494cc5",
   "metadata": {},
   "outputs": [],
   "source": [
    "# Instance Object\n",
    "\n",
    "# Python Custom Commands in Cinema 4D \n",
    "# Final Assignment, Ardak Mukanova\n",
    "# Learned from Mike Udin tutorials\n",
    "\n",
    "import c4d\n",
    "from c4d import gui\n",
    "\n",
    "\n",
    "# Main function\n",
    "def main():\n",
    "\"\"\" this is a script for Cinema 4D to make Instances of selected active objects \"\"\"\n",
    "\n",
    "    objs = doc.GetActiveObjects(1)\n",
    "    if not objs:\n",
    "        gui.MessageDialog('Select objects')\n",
    "        return\n",
    "\n",
    "    doc.StartUndo()\n",
    "    nul = doc.SearchObject('New Instances')\n",
    "    if not nul:\n",
    "        nul = c4d.BaseObject(c4d.Onull)\n",
    "        nul.SetName('New Instances')\n",
    "        doc.InsertObject(nul)\n",
    "        doc.AddUndo(c4d.UNDOTYPE_NEW, nul)\n",
    "\n",
    "    for obj in objs:\n",
    "        inst = c4d.BaseObject(c4d.Oinstance)\n",
    "        inst.SetName(obj.GetName() + ' Instance')\n",
    "        inst[c4d.INSTANCEOBJECT_LINK] = obj\n",
    "        inst[c4d.INSTANCEOBJECT_RENDERINSTANCE_MODE] = 0\n",
    "        inst.InsertUnder(nul)\n",
    "        doc.AddUndo(c4d.UNDOTYPE_NEW, inst)\n",
    "\n",
    "    doc.EndUndo()\n",
    "    c4d.EventAdd() #adds the event\n",
    "\n",
    "\n",
    "# Execute main()\n",
    "if __name__=='__main__':\n",
    "    main()\n",
    "    c4d.EventAdd()"
   ]
  }
 ],
 "metadata": {
  "kernelspec": {
   "display_name": "Python 3",
   "language": "python",
   "name": "python3"
  },
  "language_info": {
   "codemirror_mode": {
    "name": "ipython",
    "version": 3
   },
   "file_extension": ".py",
   "mimetype": "text/x-python",
   "name": "python",
   "nbconvert_exporter": "python",
   "pygments_lexer": "ipython3",
   "version": "3.8.8"
  }
 },
 "nbformat": 4,
 "nbformat_minor": 5
}
