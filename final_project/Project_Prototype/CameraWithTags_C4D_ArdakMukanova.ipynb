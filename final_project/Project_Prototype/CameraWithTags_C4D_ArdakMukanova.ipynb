{
 "cells": [
  {
   "cell_type": "code",
   "execution_count": null,
   "id": "f9270256",
   "metadata": {},
   "outputs": [],
   "source": [
    "# Camera with tags\n",
    "\n",
    "# Python Custom Commands in Cinema 4D \n",
    "# Final Assignment, Ardak Mukanova\n",
    "\n",
    "import c4d\n",
    "from c4d import gui\n",
    "\n",
    "def main():\n",
    "\"\"\" this is a sample python script for Cinema 4D to create a custom camera with tags \"\"\"\n",
    "\n",
    "    def tool():\n",
    "        return c4d.plugins.FindPlugin(doc.GetAction(), c4d.PLUGINTYPE_TOOL)\n",
    "\n",
    "    def object():\n",
    "        return doc.GetActiveObject()\n",
    "\n",
    "    def tag():\n",
    "        return doc.GetActiveTag()\n",
    "\n",
    "    def renderdata():\n",
    "        return doc.GetActiveRenderData()\n",
    "\n",
    "    def prefs(id):\n",
    "        return c4d.plugins.FindPlugin(id, c4d.PLUGINTYPE_PREFS)\n",
    "\n",
    "    c4d.CallCommand(5103) # Camera\n",
    "    c4d.CallCommand(55000, 2) # Use Camera\n",
    "    c4d.CallCommand(5676) #\n",
    "    c4d.CallCommand(100004788, 50005) # New Tag\n",
    "    activetag = doc.GetActiveTag() # Takes active TARGET tag\n",
    "\n",
    "    c4d.CallCommand(5699) #\n",
    "    c4d.CallCommand(100004788, 50003) # New Tag\n",
    "    nexttag = doc.GetActiveTag() # Takes active SPLINE tag\n",
    "\n",
    "    c4d.CallCommand(5140) # Null\n",
    "    activeobject = doc.GetActiveObject()\n",
    "    activetag[c4d.TARGETEXPRESSIONTAG_LINK] = activeobject\n",
    "\n",
    "    activeobject.DelBit(c4d.BIT_ACTIVE)\n",
    "    c4d.CallCommand(12113)\n",
    "\n",
    "    c4d.CallCommand(5181) # Circle\n",
    "    object()[c4d.PRIM_CIRCLE_RADIUS] = 2000\n",
    "    object()[c4d.PRIM_PLANE] = 2\n",
    "    NextObject = activeobject.GetPred()\n",
    "    NextObject.SetBit(c4d.BIT_ACTIVE)\n",
    "    nexttag[c4d.ALIGNTOSPLINETAG_LINK] = NextObject\n",
    "\n",
    "if __name__=='__main__':\n",
    "    main()\n",
    "    c4d.EventAdd()"
   ]
  }
 ],
 "metadata": {
  "kernelspec": {
   "display_name": "Python 3",
   "language": "python",
   "name": "python3"
  },
  "language_info": {
   "codemirror_mode": {
    "name": "ipython",
    "version": 3
   },
   "file_extension": ".py",
   "mimetype": "text/x-python",
   "name": "python",
   "nbconvert_exporter": "python",
   "pygments_lexer": "ipython3",
   "version": "3.8.8"
  }
 },
 "nbformat": 4,
 "nbformat_minor": 5
}
