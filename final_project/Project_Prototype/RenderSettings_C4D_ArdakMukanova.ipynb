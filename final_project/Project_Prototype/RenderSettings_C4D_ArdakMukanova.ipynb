{
 "cells": [
  {
   "cell_type": "code",
   "execution_count": null,
   "id": "4b90c400",
   "metadata": {},
   "outputs": [],
   "source": [
    "# Render Setting\n",
    "\n",
    "# Python Custom Commands in Cinema 4D \n",
    "# Final Assignment, Ardak Mukanova\n",
    "\n",
    "import c4d\n",
    "from c4d import gui\n",
    "\n",
    "\n",
    "def main():\n",
    "\"\"\" this is a script for Cinema 4D to customize Render Setting in the project\n",
    "    all settings can be modified and saved as a preset for the future projects \"\"\"\n",
    "\n",
    "    def tool():\n",
    "        return c4d.plugins.FindPlugin(doc.GetAction(), c4d.PLUGINTYPE_TOOL)\n",
    "\n",
    "    def object():\n",
    "        return doc.GetActiveObject()\n",
    "\n",
    "    def tag():\n",
    "        return doc.GetActiveTag()\n",
    "\n",
    "    def renderdata():\n",
    "        return doc.GetActiveRenderData()\n",
    "\n",
    "    def prefs(id):\n",
    "        return c4d.plugins.FindPlugin(id, c4d.PLUGINTYPE_PREFS)\n",
    "\n",
    "    c4d.CallCommand(12161) # Edit Render Settings...\n",
    "    renderdata()[c4d.RDATA_RENDERENGINE] = 0\n",
    "    renderdata()[c4d.RDATA_SIZEUNIT] = 0\n",
    "    renderdata()[c4d.RDATA_FILMPRESET] = 3\n",
    "   # renderdata()[c4d.RDATA_PRESET] = 22\n",
    "    renderdata()[c4d.RDATA_XRES_VIRTUAL] = 1920.0\n",
    "    renderdata()[c4d.RDATA_YRES_VIRTUAL] = 1080.0\n",
    "   # renderdata()[c4d.RDATA_PRESET_HDTV1080_30]\n",
    "    renderdata()[c4d.RDATA_PIXELRESOLUTIONUNIT] = 1\n",
    "    renderdata()[c4d.RDATA_PIXELRESOLUTION_VIRTUAL] = 72\n",
    "    renderdata()[c4d.RDATA_FORMAT] = 1023671\n",
    "    renderdata()[c4d.RDATA_FRAMESEQUENCE] = 2\n",
    "    renderdata()[c4d.RDATA_ANTIALIASING] = 2\n",
    "\n",
    "    renderdata()[c4d.RDATA_FRAMERATE] = 30\n",
    "    c4d.CallCommand(300001045) # Ambient occlusion\n",
    "    renderdata()[c4d.VPAMBIENTOCCLUSION_APPLYTOSCENE]\n",
    "\n",
    "    c4d.CallCommand(1001400) # Depth of field\n",
    "\n",
    "# Execute main()\n",
    "if __name__=='__main__':\n",
    "    main()\n",
    "    c4d.EventAdd()"
   ]
  }
 ],
 "metadata": {
  "kernelspec": {
   "display_name": "Python 3",
   "language": "python",
   "name": "python3"
  },
  "language_info": {
   "codemirror_mode": {
    "name": "ipython",
    "version": 3
   },
   "file_extension": ".py",
   "mimetype": "text/x-python",
   "name": "python",
   "nbconvert_exporter": "python",
   "pygments_lexer": "ipython3",
   "version": "3.8.8"
  }
 },
 "nbformat": 4,
 "nbformat_minor": 5
}
